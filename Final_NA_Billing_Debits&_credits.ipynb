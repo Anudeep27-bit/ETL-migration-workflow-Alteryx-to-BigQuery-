{
  "nbformat": 4,
  "nbformat_minor": 0,
  "metadata": {
    "colab": {
      "provenance": [],
      "authorship_tag": "ABX9TyPs35GJ+ICUSC07U/0vlvfI",
      "include_colab_link": true
    },
    "kernelspec": {
      "name": "python3",
      "display_name": "Python 3"
    },
    "language_info": {
      "name": "python"
    }
  },
  "cells": [
    {
      "cell_type": "markdown",
      "metadata": {
        "id": "view-in-github",
        "colab_type": "text"
      },
      "source": [
        "<a href=\"https://colab.research.google.com/github/Anudeep27-bit/ETL-migration-workflow-Alteryx-to-BigQuery-/blob/main/Final_NA_Billing_Debits%26_credits.ipynb\" target=\"_parent\"><img src=\"https://colab.research.google.com/assets/colab-badge.svg\" alt=\"Open In Colab\"/></a>"
      ]
    },
    {
      "cell_type": "code",
      "execution_count": 1,
      "metadata": {
        "id": "QbqM6ac4B7Zm"
      },
      "outputs": [],
      "source": [
        "from google.cloud import bigquery\n",
        "client = bigquery.Client(project='irm-fin-acct-dp-prod')\n"
      ]
    },
    {
      "cell_type": "code",
      "source": [
        "from google.colab import auth\n",
        "auth.authenticate_user()\n"
      ],
      "metadata": {
        "id": "qGsBxGgYE8ob"
      },
      "execution_count": 2,
      "outputs": []
    },
    {
      "cell_type": "code",
      "source": [
        "query = \"\"\"\n",
        "Create or Replace TABLE irm-fin-acct-dp-prod.Etl_alt_BQ.billing_detail_snap AS(\n",
        "SELECT billing_system,  invoicing_country_code, calendar_date,  invoice_date, invoice_id, year_month, transaction_country_name, transaction_cluster,  transaction_region, customer_L1_code, customer_L1_name, imga, billing_cycle,  global_industry_indicator,  sf_country_parent_id, sf_country_parent_name, oracle_account_number,  oracle_account_name,  salesforce_billing_account, bill_code,  description,  product_id, product_summary_type, bill_code_data_source,  gl_account, gl_account_description, revenue_classification, currency, rate, SUM(quantity) as quantity, number_of_months,  SUM(amount) as amount, rate_USD, amount_USD, bill_code_sfdc, unit_of_measure,  storage_from_date,  storage_to_date,  original_invoice_id,  revenue_recognition_date, bill_in_advance_flag, bill_in_advance_month_number, revenue_recognition_amount, allocated_quantity\n",
        " FROM `irm-fin-acct-dp-prod.rpt_billing.billing_detail` where (transaction_region = \"NA\") and transaction_country_name != \"Canada\" AND calendar_date >= \"2023-06-01\" and calendar_date <= \"2024-08-01\" and revenue_classification =\"Storage\" and product_summary_type = \"Records Management\"\n",
        "Group by ALL)\n",
        "\"\"\"\n",
        "client.query(query).result()\n",
        "print(\" table created successfully.\")\n"
      ],
      "metadata": {
        "id": "faiNioIJzs5f"
      },
      "execution_count": null,
      "outputs": []
    },
    {
      "cell_type": "code",
      "source": [
        "query = \"\"\"\n",
        "CREATE OR REPLACE TABLE `irm-fin-acct-dp-prod.Etl_alt_BQ.billing_final_output_table` AS\n",
        "WITH\n",
        "-- First filtering step\n",
        "cte_1 AS (\n",
        "  SELECT *\n",
        "  FROM `irm-fin-acct-dp-prod.Etl_alt_BQ.billing_detail_snap`\n",
        "  WHERE description NOT IN ('STORAGE, DESTROYED', 'STORAGE, WITHDRAWN')\n",
        "    AND description NOT LIKE '%PW\\\\'D%'\n",
        "    AND description NOT LIKE '%DEST%'\n",
        "),\n",
        "\n",
        "-- Second filtering: filter out rows where amount != 0\n",
        "cte_2 AS (\n",
        "  SELECT *\n",
        "  FROM cte_1\n",
        "  WHERE amount != 0\n",
        "),\n",
        "\n",
        "-- Country transformation\n",
        "cte_3 AS (\n",
        "  SELECT *,\n",
        "         CASE\n",
        "           WHEN transaction_country_name = 'US' THEN 'United States'\n",
        "           ELSE transaction_country_name\n",
        "         END AS Country\n",
        "  FROM cte_2\n",
        "),\n",
        "\n",
        "-- Create table for negative amounts with Cycle = 'credits'\n",
        "negative_amounts AS (\n",
        "  SELECT *, 'credits' AS Cycle\n",
        "  FROM cte_3\n",
        "  WHERE amount < 0\n",
        "),\n",
        "\n",
        "-- Create table for non-negative amounts\n",
        "non_negative_amounts AS (\n",
        "  SELECT *\n",
        "  FROM cte_3\n",
        "  WHERE amount >= 0\n",
        "),\n",
        "\n",
        "-- Summarize negative amounts\n",
        "cte_4 AS (\n",
        "  SELECT\n",
        "    `Year_Month`,\n",
        "    `customer_L1_code`,\n",
        "    -amount AS amount,  -- Negate the amount values\n",
        "    COUNT(*) AS Count\n",
        "  FROM negative_amounts\n",
        "  GROUP BY `Year_Month`, `customer_L1_code`, amount\n",
        "),\n",
        "\n",
        "-- Inner join of negative and non-negative amounts\n",
        "joined_inner_amounts AS (\n",
        "  SELECT\n",
        "    non_neg.`Year_Month`,\n",
        "    non_neg.`customer_L1_code`,\n",
        "    non_neg.`amount` AS non_negative_amount,\n",
        "    neg.`amount` AS negative_amount,\n",
        "    'debits' AS Cycle  -- Add \"Cycle\" column with \"debits\"\n",
        "  FROM non_negative_amounts AS non_neg\n",
        "  JOIN negative_amounts AS neg\n",
        "  ON non_neg.`Year_Month` = neg.`Year_Month`\n",
        "  AND non_neg.`customer_L1_code` = neg.`customer_L1_code`\n",
        "  AND non_neg.`amount` = neg.`amount`\n",
        "),\n",
        "\n",
        "-- Merged table (full outer join between joined_inner_amounts and negative_amounts)\n",
        "merged_table AS (\n",
        "  SELECT\n",
        "    COALESCE(t1.Cycle, t2.Cycle) AS Cycle,\n",
        "    COALESCE(t1.customer_L1_code, t2.customer_L1_code) AS customer_L1_code,\n",
        "    t1.Year_Month,\n",
        "    t1.negative_amount,\n",
        "    t1.non_negative_amount,\n",
        "    t2.bill_in_advance_flag,\n",
        "    t2.currency,\n",
        "    t2.oracle_account_number,\n",
        "    t2.transaction_region,\n",
        "    t2.Country,\n",
        "    t2.transaction_cluster,\n",
        "    t2.bill_in_advance_month_number,\n",
        "    t2.oracle_account_name,\n",
        "    t2.sf_country_parent_id,\n",
        "    t2.storage_to_date,\n",
        "    t2.allocated_quantity,\n",
        "    t2.global_industry_indicator,\n",
        "    t2.imga,\n",
        "    t2.quantity,\n",
        "    t2.invoice_date,\n",
        "    t2.revenue_classification,\n",
        "    t2.product_summary_type,\n",
        "    t2.bill_code,\n",
        "    t2.amount_USD,\n",
        "    t2.number_of_months,\n",
        "    t2.bill_code_sfdc,\n",
        "    t2.revenue_recognition_date,\n",
        "    t2.rate_USD,\n",
        "    t2.customer_L1_name,\n",
        "    t2.invoicing_country_code,\n",
        "    t2.sf_country_parent_name,\n",
        "    t2.invoice_id,\n",
        "    t2.description,\n",
        "    t2.gl_account,\n",
        "    t2.billing_system,\n",
        "    t2.bill_code_data_source,\n",
        "    t2.unit_of_measure,\n",
        "    t2.original_invoice_id,\n",
        "    t2.year_month AS year_month_t2,  -- Renamed year_month to avoid conflict\n",
        "    t2.revenue_recognition_amount,\n",
        "    t2.transaction_country_name,\n",
        "    t2.billing_cycle,\n",
        "    t2.gl_account_description,\n",
        "    t2.amount AS amount_t2,  -- Renamed amount to avoid conflict\n",
        "    t2.rate,\n",
        "    t2.storage_from_date,\n",
        "    t2.product_id,\n",
        "    t2.salesforce_billing_account,\n",
        "    t2.calendar_date\n",
        "  FROM joined_inner_amounts AS t1\n",
        "  FULL OUTER JOIN negative_amounts AS t2\n",
        "  ON t1.Cycle = t2.Cycle\n",
        "  AND t1.customer_L1_code = t2.customer_L1_code\n",
        "),\n",
        "\n",
        "-- Final summarized table\n",
        "final_query AS (\n",
        "  SELECT\n",
        "    Cycle,  -- Group by Cycle\n",
        "    calendar_date AS `Transaction Date`,  -- Group by calendar_date, alias it as 'Transaction Date'\n",
        "    Country,  -- Group by Country\n",
        "    customer_L1_code AS CustID,  -- Group by customer_L1_code, alias it as CustID\n",
        "    oracle_account_number AS `Oracle ID`,  -- Group by oracle_account_number, alias it as 'Oracle ID'\n",
        "    ANY_VALUE(oracle_account_name) AS `Customer Name`,  -- Use ANY_VALUE to select a value without grouping\n",
        "    SUM(amount_t2) AS Amount  -- Sum the amount_t2 column\n",
        "  FROM merged_table\n",
        "  GROUP BY\n",
        "    Cycle, calendar_date, Country, customer_L1_code, oracle_account_number\n",
        ")\n",
        "\n",
        "-- Select final output\n",
        "SELECT * FROM final_query;\n",
        "\"\"\"\n",
        "\n",
        "client.query(query).result()\n",
        "print(\"Final output table created successfully.\")\n"
      ],
      "metadata": {
        "colab": {
          "base_uri": "https://localhost:8080/"
        },
        "id": "GSfwtJTVFCy6",
        "outputId": "332b929d-ce62-4ea4-ff6c-85337e69f3df"
      },
      "execution_count": 4,
      "outputs": [
        {
          "output_type": "stream",
          "name": "stdout",
          "text": [
            "Final output table created successfully.\n"
          ]
        }
      ]
    }
  ]
}