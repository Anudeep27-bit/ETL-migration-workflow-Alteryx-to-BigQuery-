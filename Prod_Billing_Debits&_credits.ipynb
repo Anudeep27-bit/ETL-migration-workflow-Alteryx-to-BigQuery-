{
  "nbformat": 4,
  "nbformat_minor": 0,
  "metadata": {
    "colab": {
      "provenance": [],
      "authorship_tag": "ABX9TyNa+63sDSyzTN9ZUS0bEH/k",
      "include_colab_link": true
    },
    "kernelspec": {
      "name": "python3",
      "display_name": "Python 3"
    },
    "language_info": {
      "name": "python"
    }
  },
  "cells": [
    {
      "cell_type": "markdown",
      "metadata": {
        "id": "view-in-github",
        "colab_type": "text"
      },
      "source": [
        "<a href=\"https://colab.research.google.com/github/Anudeep27-bit/ETL-migration-workflow-Alteryx-to-BigQuery-/blob/main/Prod_Billing_Debits%26_credits.ipynb\" target=\"_parent\"><img src=\"https://colab.research.google.com/assets/colab-badge.svg\" alt=\"Open In Colab\"/></a>"
      ]
    },
    {
      "cell_type": "code",
      "execution_count": 3,
      "metadata": {
        "colab": {
          "base_uri": "https://localhost:8080/"
        },
        "id": "rewQtLhhNaPr",
        "outputId": "e6e1f4db-a982-4620-c47d-6304a592ec13"
      },
      "outputs": [
        {
          "output_type": "stream",
          "name": "stdout",
          "text": [
            "Requirement already satisfied: google-cloud-bigquery in /usr/local/lib/python3.10/dist-packages (3.25.0)\n",
            "Requirement already satisfied: google-api-core!=2.0.*,!=2.1.*,!=2.10.*,!=2.2.*,!=2.3.*,!=2.4.*,!=2.5.*,!=2.6.*,!=2.7.*,!=2.8.*,!=2.9.*,<3.0.0dev,>=1.34.1 in /usr/local/lib/python3.10/dist-packages (from google-api-core[grpc]!=2.0.*,!=2.1.*,!=2.10.*,!=2.2.*,!=2.3.*,!=2.4.*,!=2.5.*,!=2.6.*,!=2.7.*,!=2.8.*,!=2.9.*,<3.0.0dev,>=1.34.1->google-cloud-bigquery) (2.19.2)\n",
            "Requirement already satisfied: google-auth<3.0.0dev,>=2.14.1 in /usr/local/lib/python3.10/dist-packages (from google-cloud-bigquery) (2.27.0)\n",
            "Requirement already satisfied: google-cloud-core<3.0.0dev,>=1.6.0 in /usr/local/lib/python3.10/dist-packages (from google-cloud-bigquery) (2.4.1)\n",
            "Requirement already satisfied: google-resumable-media<3.0dev,>=0.6.0 in /usr/local/lib/python3.10/dist-packages (from google-cloud-bigquery) (2.7.2)\n",
            "Requirement already satisfied: packaging>=20.0.0 in /usr/local/lib/python3.10/dist-packages (from google-cloud-bigquery) (24.1)\n",
            "Requirement already satisfied: python-dateutil<3.0dev,>=2.7.2 in /usr/local/lib/python3.10/dist-packages (from google-cloud-bigquery) (2.8.2)\n",
            "Requirement already satisfied: requests<3.0.0dev,>=2.21.0 in /usr/local/lib/python3.10/dist-packages (from google-cloud-bigquery) (2.32.3)\n",
            "Requirement already satisfied: googleapis-common-protos<2.0.dev0,>=1.56.2 in /usr/local/lib/python3.10/dist-packages (from google-api-core!=2.0.*,!=2.1.*,!=2.10.*,!=2.2.*,!=2.3.*,!=2.4.*,!=2.5.*,!=2.6.*,!=2.7.*,!=2.8.*,!=2.9.*,<3.0.0dev,>=1.34.1->google-api-core[grpc]!=2.0.*,!=2.1.*,!=2.10.*,!=2.2.*,!=2.3.*,!=2.4.*,!=2.5.*,!=2.6.*,!=2.7.*,!=2.8.*,!=2.9.*,<3.0.0dev,>=1.34.1->google-cloud-bigquery) (1.65.0)\n",
            "Requirement already satisfied: protobuf!=3.20.0,!=3.20.1,!=4.21.0,!=4.21.1,!=4.21.2,!=4.21.3,!=4.21.4,!=4.21.5,<6.0.0.dev0,>=3.19.5 in /usr/local/lib/python3.10/dist-packages (from google-api-core!=2.0.*,!=2.1.*,!=2.10.*,!=2.2.*,!=2.3.*,!=2.4.*,!=2.5.*,!=2.6.*,!=2.7.*,!=2.8.*,!=2.9.*,<3.0.0dev,>=1.34.1->google-api-core[grpc]!=2.0.*,!=2.1.*,!=2.10.*,!=2.2.*,!=2.3.*,!=2.4.*,!=2.5.*,!=2.6.*,!=2.7.*,!=2.8.*,!=2.9.*,<3.0.0dev,>=1.34.1->google-cloud-bigquery) (3.20.3)\n",
            "Requirement already satisfied: proto-plus<2.0.0dev,>=1.22.3 in /usr/local/lib/python3.10/dist-packages (from google-api-core!=2.0.*,!=2.1.*,!=2.10.*,!=2.2.*,!=2.3.*,!=2.4.*,!=2.5.*,!=2.6.*,!=2.7.*,!=2.8.*,!=2.9.*,<3.0.0dev,>=1.34.1->google-api-core[grpc]!=2.0.*,!=2.1.*,!=2.10.*,!=2.2.*,!=2.3.*,!=2.4.*,!=2.5.*,!=2.6.*,!=2.7.*,!=2.8.*,!=2.9.*,<3.0.0dev,>=1.34.1->google-cloud-bigquery) (1.24.0)\n",
            "Requirement already satisfied: grpcio<2.0dev,>=1.33.2 in /usr/local/lib/python3.10/dist-packages (from google-api-core[grpc]!=2.0.*,!=2.1.*,!=2.10.*,!=2.2.*,!=2.3.*,!=2.4.*,!=2.5.*,!=2.6.*,!=2.7.*,!=2.8.*,!=2.9.*,<3.0.0dev,>=1.34.1->google-cloud-bigquery) (1.64.1)\n",
            "Requirement already satisfied: grpcio-status<2.0.dev0,>=1.33.2 in /usr/local/lib/python3.10/dist-packages (from google-api-core[grpc]!=2.0.*,!=2.1.*,!=2.10.*,!=2.2.*,!=2.3.*,!=2.4.*,!=2.5.*,!=2.6.*,!=2.7.*,!=2.8.*,!=2.9.*,<3.0.0dev,>=1.34.1->google-cloud-bigquery) (1.48.2)\n",
            "Requirement already satisfied: cachetools<6.0,>=2.0.0 in /usr/local/lib/python3.10/dist-packages (from google-auth<3.0.0dev,>=2.14.1->google-cloud-bigquery) (5.5.0)\n",
            "Requirement already satisfied: pyasn1-modules>=0.2.1 in /usr/local/lib/python3.10/dist-packages (from google-auth<3.0.0dev,>=2.14.1->google-cloud-bigquery) (0.4.1)\n",
            "Requirement already satisfied: rsa<5,>=3.1.4 in /usr/local/lib/python3.10/dist-packages (from google-auth<3.0.0dev,>=2.14.1->google-cloud-bigquery) (4.9)\n",
            "Requirement already satisfied: google-crc32c<2.0dev,>=1.0 in /usr/local/lib/python3.10/dist-packages (from google-resumable-media<3.0dev,>=0.6.0->google-cloud-bigquery) (1.6.0)\n",
            "Requirement already satisfied: six>=1.5 in /usr/local/lib/python3.10/dist-packages (from python-dateutil<3.0dev,>=2.7.2->google-cloud-bigquery) (1.16.0)\n",
            "Requirement already satisfied: charset-normalizer<4,>=2 in /usr/local/lib/python3.10/dist-packages (from requests<3.0.0dev,>=2.21.0->google-cloud-bigquery) (3.4.0)\n",
            "Requirement already satisfied: idna<4,>=2.5 in /usr/local/lib/python3.10/dist-packages (from requests<3.0.0dev,>=2.21.0->google-cloud-bigquery) (3.10)\n",
            "Requirement already satisfied: urllib3<3,>=1.21.1 in /usr/local/lib/python3.10/dist-packages (from requests<3.0.0dev,>=2.21.0->google-cloud-bigquery) (2.2.3)\n",
            "Requirement already satisfied: certifi>=2017.4.17 in /usr/local/lib/python3.10/dist-packages (from requests<3.0.0dev,>=2.21.0->google-cloud-bigquery) (2024.8.30)\n",
            "Requirement already satisfied: pyasn1<0.7.0,>=0.4.6 in /usr/local/lib/python3.10/dist-packages (from pyasn1-modules>=0.2.1->google-auth<3.0.0dev,>=2.14.1->google-cloud-bigquery) (0.6.1)\n"
          ]
        }
      ],
      "source": [
        "!pip install google-cloud-bigquery\n"
      ]
    },
    {
      "cell_type": "markdown",
      "source": [
        "Step 1: Union All of Input Datasets\n",
        "Step 2: Filter on Description\n",
        "Step 3: Filter on Amount\n",
        "Step 4: Country Transformation (Formula)\n",
        "Step 5: Spend Check\n",
        "Step 6: Right Join for Negative Spend\n",
        "Step 7: Final Joins\n",
        "Step 8: Sorting\n",
        "Step 9: Tile and Filter\n",
        "Step 10: Final Output\n",
        "Each step is now translated into a SQL query and can be run in Google Colab.\n",
        "The final output is written to a new BigQuery table: final_output_table."
      ],
      "metadata": {
        "id": "qfaQlSMTQSDm"
      }
    },
    {
      "cell_type": "code",
      "source": [
        "from google.cloud import bigquery\n",
        "client = bigquery.Client(project='irm-fin-acct-dp-prod')\n"
      ],
      "metadata": {
        "id": "bHuBklFks536"
      },
      "execution_count": 5,
      "outputs": []
    },
    {
      "cell_type": "code",
      "source": [
        "from google.colab import auth\n",
        "auth.authenticate_user()\n"
      ],
      "metadata": {
        "id": "I2oICoMPs6HD"
      },
      "execution_count": 9,
      "outputs": []
    },
    {
      "cell_type": "code",
      "source": [
        "query = \"\"\"\n",
        "Create or Replace TABLE irm-fin-acct-dp-prod.Etl_alt_BQ.billing_detail_snap AS(\n",
        "SELECT billing_system,  invoicing_country_code, calendar_date,  invoice_date, invoice_id, year_month, transaction_country_name, transaction_cluster,  transaction_region, customer_L1_code, customer_L1_name, imga, billing_cycle,  global_industry_indicator,  sf_country_parent_id, sf_country_parent_name, oracle_account_number,  oracle_account_name,  salesforce_billing_account, bill_code,  description,  product_id, product_summary_type, bill_code_data_source,  gl_account, gl_account_description, revenue_classification, currency, rate, SUM(quantity) as quantity, number_of_months,  SUM(amount) as amount, rate_USD, amount_USD, bill_code_sfdc, unit_of_measure,  storage_from_date,  storage_to_date,  original_invoice_id,  revenue_recognition_date, bill_in_advance_flag, bill_in_advance_month_number, revenue_recognition_amount, allocated_quantity\n",
        " FROM `irm-fin-acct-dp-prod.rpt_billing.billing_detail` where (transaction_region = \"NA\") and transaction_country_name != \"Canada\" AND calendar_date >= \"2023-06-01\" and calendar_date <= \"2024-08-01\" and revenue_classification =\"Storage\" and product_summary_type = \"Records Management\"\n",
        "Group by ALL)\n",
        "\"\"\"\n",
        "client.query(query).result()\n",
        "print(\" table created successfully.\")"
      ],
      "metadata": {
        "id": "Qhx1asdB0TGh"
      },
      "execution_count": null,
      "outputs": []
    },
    {
      "cell_type": "code",
      "source": [
        "query_2 = \"\"\"\n",
        "CREATE OR REPLACE TABLE `irm-fin-acct-dp-prod.Etl_alt_BQ.first_filter` AS  -- Changed table name to 'first_filter'\n",
        "WITH combined_data AS (\n",
        "  SELECT * FROM `irm-fin-acct-dp-prod.Etl_alt_BQ.billing_detail_snap`\n",
        ")\n",
        "SELECT *\n",
        "FROM combined_data\n",
        "WHERE description NOT IN ('STORAGE, DESTROYED', 'STORAGE, WITHDRAWN')\n",
        "  AND description NOT LIKE '%PW\\\\'D%'  -- Added an extra backslash to escape the single quote\n",
        "  AND description NOT LIKE '%DEST%';\n",
        "\"\"\"\n",
        "client.query(query_2).result()  # Run the query and create the table\n",
        "\n",
        "print(\"Table created successfully.\")\n",
        "\n",
        "#df_2 = client.query(query_2).to_dataframe()\n",
        "#print(df_2.head())"
      ],
      "metadata": {
        "colab": {
          "base_uri": "https://localhost:8080/"
        },
        "id": "2JlXxdpSNwA-",
        "outputId": "39cd738d-0b28-46c1-f59f-43f75910f271"
      },
      "execution_count": 46,
      "outputs": [
        {
          "output_type": "stream",
          "name": "stdout",
          "text": [
            "Table created successfully.\n"
          ]
        }
      ]
    },
    {
      "cell_type": "code",
      "source": [
        "query_3 = \"\"\"\n",
        "CREATE OR REPLACE TABLE `irm-fin-acct-dp-prod.Etl_alt_BQ.second_filter` AS\n",
        "WITH filtered_data AS (\n",
        "  SELECT *\n",
        "  FROM `irm-fin-acct-dp-prod.Etl_alt_BQ.TEST_MAR_2024`\n",
        "  WHERE description NOT IN ('STORAGE, DESTROYED', 'STORAGE, WITHDRAWN')\n",
        "    AND description NOT LIKE \"%PW'D%\"  -- Use double quotes around the string pattern\n",
        "    AND description NOT LIKE '%DEST%'\n",
        ")\n",
        "SELECT *\n",
        "FROM filtered_data\n",
        "WHERE amount != 0;\n",
        "\"\"\"\n",
        "client.query(query_3).result()  # Run the query and create the table\n",
        "\n",
        "print(\"Table created successfully.\")\n",
        "#df_3 = client.query(query_3).to_dataframe()\n",
        "#print(df_3.head())\n",
        "\n"
      ],
      "metadata": {
        "colab": {
          "base_uri": "https://localhost:8080/"
        },
        "id": "JQnRDnG2PyeF",
        "outputId": "4d53ff67-2434-411e-afe8-b820b4f3e1d0"
      },
      "execution_count": 48,
      "outputs": [
        {
          "output_type": "stream",
          "name": "stdout",
          "text": [
            "Table created successfully.\n"
          ]
        }
      ]
    },
    {
      "cell_type": "code",
      "source": [
        "query_4 = \"\"\"\n",
        "CREATE OR REPLACE TABLE `irm-fin-acct-dp-prod.Etl_alt_BQ.Third_filter` AS\n",
        "WITH filtered_data AS (\n",
        "  SELECT *\n",
        "  FROM `irm-fin-acct-dp-prod.Etl_alt_BQ.TEST_MAR_2024`\n",
        "  WHERE description NOT IN ('STORAGE, DESTROYED', 'STORAGE, WITHDRAWN')\n",
        "    AND description NOT LIKE \"%PW'D%\"\n",
        "    AND description NOT LIKE '%DEST%'\n",
        "    AND amount != 0\n",
        "),\n",
        "country_transformed AS (\n",
        "  SELECT *,\n",
        "         CASE\n",
        "           WHEN transaction_country_name = 'US' THEN 'United States'\n",
        "           ELSE transaction_country_name\n",
        "         END AS Country -- Create a new column 'Country'\n",
        "  FROM filtered_data\n",
        ")\n",
        "SELECT *\n",
        "FROM country_transformed;\n",
        "\"\"\"\n",
        "\n",
        "client.query(query_4).result()  # Run the query and create the table\n",
        "\n",
        "print(\"Table created successfully.\")\n",
        "\n",
        "#df_4 = client.query(query_4).to_dataframe()\n",
        "#print(df_4.head())\n"
      ],
      "metadata": {
        "colab": {
          "base_uri": "https://localhost:8080/"
        },
        "id": "_geT3zceP2JM",
        "outputId": "bac6b0cd-960f-4f86-f4f6-f9c443f2ab4c"
      },
      "execution_count": 50,
      "outputs": [
        {
          "output_type": "stream",
          "name": "stdout",
          "text": [
            "Table created successfully.\n"
          ]
        }
      ]
    },
    {
      "cell_type": "code",
      "source": [
        "# Query 1: Create table for negative amounts with \"Cycle\" column\n",
        "query_negative = \"\"\"\n",
        "CREATE OR REPLACE TABLE `irm-fin-acct-dp-prod.Etl_alt_BQ.negative_amounts` AS\n",
        "SELECT *,\n",
        "       'credits' AS Cycle  -- Adding \"Cycle\" column with value \"credits\"\n",
        "FROM `irm-fin-acct-dp-prod.Etl_alt_BQ.Third_filter`\n",
        "WHERE amount < 0;\n",
        "\"\"\"\n",
        "\n",
        "# Query 2: Create table for non-negative amounts (unchanged)\n",
        "query_non_negative = \"\"\"\n",
        "CREATE OR REPLACE TABLE `irm-fin-acct-dp-prod.Etl_alt_BQ.non_negative_amounts` AS\n",
        "SELECT *\n",
        "FROM `irm-fin-acct-dp-prod.Etl_alt_BQ.Third_filter`\n",
        "WHERE amount >= 0;\n",
        "\"\"\"\n",
        "\n",
        "# Execute both queries\n",
        "client.query(query_negative).result()\n",
        "client.query(query_non_negative).result()\n",
        "\n",
        "print(\"Tables created successfully.\")\n"
      ],
      "metadata": {
        "colab": {
          "base_uri": "https://localhost:8080/"
        },
        "id": "IFcnPgqm6xAz",
        "outputId": "2bbd9f17-6b6e-4dc9-d85a-674660caa4df"
      },
      "execution_count": 66,
      "outputs": [
        {
          "output_type": "stream",
          "name": "stdout",
          "text": [
            "Tables created successfully.\n"
          ]
        }
      ]
    },
    {
      "cell_type": "code",
      "source": [],
      "metadata": {
        "id": "TuUuHaG8aYrs"
      },
      "execution_count": null,
      "outputs": []
    },
    {
      "cell_type": "code",
      "source": [
        "query_summary = \"\"\"\n",
        "CREATE OR REPLACE TABLE `irm-fin-acct-dp-prod.Etl_alt_BQ.Summary_negative_amt` AS\n",
        "SELECT\n",
        "    `Year_Month`,\n",
        "    `customer_L1_code`,\n",
        "    -`amount` AS amount,  -- Negate the amount values\n",
        "    COUNT(*) AS Count\n",
        "FROM `irm-fin-acct-dp-prod.Etl_alt_BQ.negative_amounts`\n",
        "GROUP BY `Year_Month`, `customer_L1_code`, `amount`\n",
        "ORDER BY `Year_Month`, `customer_L1_code`, `amount`;\n",
        "\n",
        "\n",
        "\n",
        "\"\"\"\n",
        "\n",
        "client.query(query_summary).result()  # Execute the query to create the summary table\n",
        "print(\"Summary table created successfully.\")\n",
        "\n"
      ],
      "metadata": {
        "colab": {
          "base_uri": "https://localhost:8080/"
        },
        "id": "JKisChzjDw3i",
        "outputId": "0ad7ff6a-6f74-457b-96bc-b10b8e97fc1a"
      },
      "execution_count": 67,
      "outputs": [
        {
          "output_type": "stream",
          "name": "stdout",
          "text": [
            "Summary table created successfully.\n"
          ]
        }
      ]
    },
    {
      "cell_type": "code",
      "source": [
        "query_inner_join = \"\"\"\n",
        "CREATE OR REPLACE TABLE `irm-fin-acct-dp-prod.Etl_alt_BQ.joined_inner_amounts` AS\n",
        "SELECT\n",
        "    non_neg.`Year_Month`,\n",
        "    non_neg.`customer_L1_code`,\n",
        "    non_neg.`amount` AS non_negative_amount,\n",
        "    neg.`amount` AS negative_amount,\n",
        "    'debits' AS Cycle  -- Adding \"Cycle\" column with \"debits\" value\n",
        "FROM `irm-fin-acct-dp-prod.Etl_alt_BQ.non_negative_amounts` AS non_neg\n",
        "JOIN `irm-fin-acct-dp-prod.Etl_alt_BQ.negative_amounts` AS neg\n",
        "ON non_neg.`Year_Month` = neg.`Year_Month`\n",
        "AND non_neg.`customer_L1_code` = neg.`customer_L1_code`\n",
        "AND non_neg.`amount` = neg.`amount`;\n",
        "\"\"\"\n",
        "\n",
        "client.query(query_inner_join).result()  # Execute the query to create the inner join table with the Cycle column\n",
        "print(\"Inner joined table with Cycle column created successfully.\")\n",
        "\n",
        "\n"
      ],
      "metadata": {
        "colab": {
          "base_uri": "https://localhost:8080/"
        },
        "id": "f77ylIyOIgtW",
        "outputId": "4ed6723e-779f-4442-9257-a1cb4168151c"
      },
      "execution_count": 68,
      "outputs": [
        {
          "output_type": "stream",
          "name": "stdout",
          "text": [
            "Inner joined table with Cycle column created successfully.\n"
          ]
        }
      ]
    },
    {
      "cell_type": "code",
      "source": [
        "from google.cloud import bigquery\n",
        "\n",
        "# Initialize BigQuery client with project ID\n",
        "client = bigquery.Client(project=\"irm-fin-acct-dp-prod\")\n",
        "\n",
        "query = \"\"\"\n",
        "CREATE OR REPLACE TABLE `irm-fin-acct-dp-prod.Etl_alt_BQ.merged_table` AS\n",
        "SELECT\n",
        "    COALESCE(t1.Cycle, t2.Cycle) AS Cycle,\n",
        "    COALESCE(t1.customer_L1_code, t2.customer_L1_code) AS customer_L1_code,\n",
        "    t1.Year_Month,\n",
        "    t1.negative_amount,\n",
        "    t1.non_negative_amount,\n",
        "    t2.bill_in_advance_flag,\n",
        "    t2.currency,\n",
        "    t2.oracle_account_number,\n",
        "    t2.transaction_region,\n",
        "    t2.Country,\n",
        "    t2.transaction_cluster,\n",
        "    t2.bill_in_advance_month_number,\n",
        "    t2.oracle_account_name,\n",
        "    t2.sf_country_parent_id,\n",
        "    t2.storage_to_date,\n",
        "    t2.allocated_quantity,\n",
        "    t2.global_industry_indicator,\n",
        "    t2.imga,\n",
        "    t2.quantity,\n",
        "    t2.invoice_date,\n",
        "    t2.revenue_classification,\n",
        "    t2.product_summary_type,\n",
        "    t2.bill_code,\n",
        "    t2.amount_USD,\n",
        "    t2.number_of_months,\n",
        "    t2.bill_code_sfdc,\n",
        "    t2.revenue_recognition_date,\n",
        "    t2.rate_USD,\n",
        "    t2.customer_L1_name,\n",
        "    t2.invoicing_country_code,\n",
        "    t2.sf_country_parent_name,\n",
        "    t2.invoice_id,\n",
        "    t2.description,\n",
        "    t2.gl_account,\n",
        "    t2.billing_system,\n",
        "    t2.bill_code_data_source,\n",
        "    t2.unit_of_measure,\n",
        "    t2.original_invoice_id,\n",
        "    t2.year_month AS year_month_t2,  # Rename year_month from t2 to avoid conflict\n",
        "    t2.revenue_recognition_amount,\n",
        "    t2.transaction_country_name,\n",
        "    t2.billing_cycle,\n",
        "    t2.gl_account_description,\n",
        "    t2.amount AS amount_t2, # Rename amount from t2 to avoid conflict\n",
        "    t2.rate,\n",
        "    t2.storage_from_date,\n",
        "    t2.product_id,\n",
        "    t2.salesforce_billing_account,\n",
        "    t2.calendar_date\n",
        "FROM `irm-fin-acct-dp-prod.Etl_alt_BQ.joined_inner_amounts` AS t1\n",
        "FULL OUTER JOIN `irm-fin-acct-dp-prod.Etl_alt_BQ.negative_amounts` AS t2\n",
        "ON t1.Cycle = t2.Cycle\n",
        "AND t1.customer_L1_code = t2.customer_L1_code;\n",
        "\"\"\"\n",
        "\n",
        "client.query(query).result()\n",
        "\n",
        "print(\"Merged table created successfully.\")"
      ],
      "metadata": {
        "colab": {
          "base_uri": "https://localhost:8080/"
        },
        "id": "2ep1nuUKbVy2",
        "outputId": "ae72de56-47e0-4f8c-a38b-6653f15ee4e2"
      },
      "execution_count": 85,
      "outputs": [
        {
          "output_type": "stream",
          "name": "stdout",
          "text": [
            "Merged table created successfully.\n"
          ]
        }
      ]
    },
    {
      "cell_type": "code",
      "source": [
        "query = \"\"\"\n",
        "CREATE OR REPLACE TABLE `irm-fin-acct-dp-prod.Etl_alt_BQ.summarized_table` AS\n",
        "SELECT\n",
        "    Cycle,  -- Group by Cycle\n",
        "    calendar_date AS `Transaction Date`,  -- Group by calendar_date, alias it as 'Transaction Date'\n",
        "    Country,  -- Group by Country\n",
        "    customer_L1_code AS CustID,  -- Group by customer_L1_code, alias it as CustID\n",
        "    oracle_account_number AS `Oracle ID`,  -- Group by oracle_account_number, alias it as 'Oracle ID'\n",
        "    ANY_VALUE(oracle_account_name) AS `Customer Name`,  -- Use ANY_VALUE to select a value without grouping\n",
        "    SUM(amount_t2) AS Amount  -- Sum the Spend column\n",
        "FROM\n",
        "    `irm-fin-acct-dp-prod.Etl_alt_BQ.merged_table`\n",
        "GROUP BY\n",
        "    Cycle, calendar_date, Country, customer_L1_code, oracle_account_number;\n",
        "\"\"\"\n",
        "\n",
        "client.query(query).result()\n",
        "print(\"Summarized table created successfully.\")\n"
      ],
      "metadata": {
        "colab": {
          "base_uri": "https://localhost:8080/"
        },
        "id": "EX8vdpYbbV-G",
        "outputId": "6c959f8c-0da9-42a6-a6f1-ee64f5d8ab38"
      },
      "execution_count": 92,
      "outputs": [
        {
          "output_type": "stream",
          "name": "stdout",
          "text": [
            "Summarized table created successfully.\n"
          ]
        }
      ]
    },
    {
      "cell_type": "markdown",
      "source": [],
      "metadata": {
        "id": "TrK6TyVZ-rf8"
      }
    },
    {
      "cell_type": "code",
      "source": [],
      "metadata": {
        "id": "aNCva4pxbWAi"
      },
      "execution_count": null,
      "outputs": []
    }
  ]
}